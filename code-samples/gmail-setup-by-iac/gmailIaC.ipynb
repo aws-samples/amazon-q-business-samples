{
 "cells": [
  {
   "cell_type": "markdown",
   "id": "d64275f5-ea58-49c1-acea-06195af1388f",
   "metadata": {},
   "source": [
    "# Gmail Data Source Integration with Amazon Q Business\n",
    "\n",
    "## What You Will Learn\n",
    "\n",
    "This notebook demonstrates how to programmatically integrate Gmail as a data source with Amazon Q Business using Infrastructure as Code (IaC) principles. By following this tutorial, you will gain hands-on experience with:\n",
    "\n",
    "- **AWS SDK Integration**: Using boto3 to interact with multiple AWS services programmatically\n",
    "- **Secrets Management**: Securely storing Gmail service account credentials in AWS Secrets Manager\n",
    "- **IAM Role Creation**: Setting up proper permissions for Amazon Q Business to access Gmail data\n",
    "- **Amazon Q Business Configuration**: Creating applications, indexes, and data sources via API\n",
    "- **Gmail API Integration**: Configuring Google Workspace service accounts for data access\n",
    "- **Error Handling**: Implementing robust error handling for AWS service interactions\n",
    "- **Resource Management**: Creating and managing AWS resources with proper naming conventions\n",
    "\n",
    "This approach enables automated deployment and consistent configuration across environments, making it ideal for enterprise implementations where manual setup is not scalable.\n"
   ]
  },
  {
   "cell_type": "markdown",
   "id": "736ba6f5-c5d0-498b-90d4-b60d5a5bd23b",
   "metadata": {},
   "source": [
    "## Prerequisites\n",
    "\n",
    "- **AWS CLI configured with appropriate credentials\n",
    "- **Required Python packages installed\n",
    "- ** Appropriate IAM permissions to\n",
    "    - Create and get Q Business Application, Subscriptions and Indexes \n",
    "    - Create IAM roles\n",
    "    - Create secrets in Secrets Manager\n",
    "    - Create IAM Identity center instances\n",
    "- ** Google Workspace admin access for service account setup\n",
    "- ** Gmail service account with domain-wide delegation enabled"
   ]
  },
  {
   "cell_type": "markdown",
   "id": "7e1aea7c-ee08-416e-83b1-871323543056",
   "metadata": {},
   "source": [
    "## Begin by setting up the required dependencies and configuration."
   ]
  },
  {
   "cell_type": "code",
   "execution_count": 1,
   "id": "17fb2de3-6b99-473c-b1e8-9e8afc259ed1",
   "metadata": {
    "execution": {
     "iopub.execute_input": "2025-08-15T05:40:16.449714Z",
     "iopub.status.busy": "2025-08-15T05:40:16.449243Z",
     "iopub.status.idle": "2025-08-15T05:40:16.776576Z",
     "shell.execute_reply": "2025-08-15T05:40:16.775311Z",
     "shell.execute_reply.started": "2025-08-15T05:40:16.449680Z"
    }
   },
   "outputs": [],
   "source": [
    "import boto3\n",
    "import json\n",
    "import botocore\n",
    "import time\n",
    "import random\n",
    "import string\n",
    "import os\n",
    "import ssl\n",
    "import urllib3\n",
    "from datetime import datetime"
   ]
  },
  {
   "cell_type": "markdown",
   "id": "50613636-ad0a-488f-b308-3fca73666c7c",
   "metadata": {},
   "source": [
    "## Define variables for region, role, user configuration, application name and secrets"
   ]
  },
  {
   "cell_type": "code",
   "execution_count": 3,
   "id": "ddfd788a-e69a-442c-bd03-0cf39d73de70",
   "metadata": {
    "execution": {
     "iopub.execute_input": "2025-08-15T05:41:58.770221Z",
     "iopub.status.busy": "2025-08-15T05:41:58.769588Z",
     "iopub.status.idle": "2025-08-15T05:41:58.774920Z",
     "shell.execute_reply": "2025-08-15T05:41:58.774141Z",
     "shell.execute_reply.started": "2025-08-15T05:41:58.770193Z"
    }
   },
   "outputs": [],
   "source": [
    " # Generate a random 5-character suffix\n",
    "def generate_suffix(length=5):\n",
    "    return \"\".join(random.choices(string.ascii_lowercase + string.digits, k=length))\n",
    "\n",
    "\n",
    "# AWS Region\n",
    "region = \"us-east-1\"  # Replace with your desired region\n",
    "\n",
    "# Role names prefix\n",
    "gmail_role_name = \"QBusiness-gmail-DataSource-\"\n",
    "\n",
    "# Application name prefix\n",
    "instance_name = \"my-q-business-application-\"\n",
    "\n",
    "# Gmail Secret prefix\n",
    "gmail_secret_name = \"QBusiness-gmail-\"\n",
    "\n",
    "# Add random suffix to names\n",
    "suffix = generate_suffix()\n",
    "gmail_role_name = f\"{gmail_role_name}{suffix}\"\n",
    "instance_name = f\"{instance_name}{suffix}\"\n",
    "gmail_secret_name = f\"{gmail_secret_name}{suffix}\"\n",
    "\n",
    "# User configuration\n",
    "email = \"johndoe@example.com\"\n",
    "first_name = \"John\"\n",
    "family_name = \"Doe\""
   ]
  },
  {
   "cell_type": "markdown",
   "id": "06fbe869-af74-4de2-81f8-9ebc9683c3a1",
   "metadata": {},
   "source": [
    "## Display Configuration:"
   ]
  },
  {
   "cell_type": "code",
   "execution_count": null,
   "id": "15b59274-4cb3-44e3-88dc-9840d466d79a",
   "metadata": {
    "execution": {
     "iopub.execute_input": "2025-08-15T05:42:46.629488Z",
     "iopub.status.busy": "2025-08-15T05:42:46.629113Z",
     "iopub.status.idle": "2025-08-15T05:42:46.633895Z",
     "shell.execute_reply": "2025-08-15T05:42:46.633117Z",
     "shell.execute_reply.started": "2025-08-15T05:42:46.629457Z"
    }
   },
   "outputs": [],
   "source": [
    "print(f\"Using gmail role name: {gmail_role_name}\")\n",
    "print(f\"Using instance name: {instance_name}\")\n",
    "print(f\"Using secret name: {gmail_secret_name}\")"
   ]
  },
  {
   "cell_type": "markdown",
   "id": "9391ad28-2531-41f8-9d3e-ed2cbe9022e5",
   "metadata": {},
   "source": [
    "## Define the Gmail Credentials"
   ]
  },
  {
   "cell_type": "code",
   "execution_count": null,
   "id": "439a8d9e-f6af-4635-958d-3e3ca73108fd",
   "metadata": {
    "execution": {
     "iopub.execute_input": "2025-08-15T21:49:57.416230Z",
     "iopub.status.busy": "2025-08-15T21:49:57.415869Z",
     "iopub.status.idle": "2025-08-15T21:49:57.420077Z",
     "shell.execute_reply": "2025-08-15T21:49:57.419237Z",
     "shell.execute_reply.started": "2025-08-15T21:49:57.416206Z"
    }
   },
   "outputs": [],
   "source": [
    "# Gmail configuration\n",
    "\n",
    "# Service account email - identifies the service account in Google Cloud\n",
    "client_email = \"your client email\"\n",
    "\n",
    "# Admin account email - the Google Workspace admin account that the service account will impersonate\n",
    "# This account must have the necessary permissions to access Gmail data across the organization\n",
    "admin_account_email = \"your admin account email\"\n",
    "# Private key for service account authentication\n",
    "# This is the RSA private key from the service account JSON file\n",
    "private_key = \"your private key\" \n"
   ]
  },
  {
   "cell_type": "markdown",
   "id": "8a6179fb-4779-4856-9925-758faf3ab1c4",
   "metadata": {},
   "source": [
    "## SSL Configuration for secure AWS API communication"
   ]
  },
  {
   "cell_type": "code",
   "execution_count": null,
   "id": "eecd025e-9572-4a3f-8bea-038dffebb0f5",
   "metadata": {
    "execution": {
     "iopub.execute_input": "2025-08-15T05:48:21.125318Z",
     "iopub.status.busy": "2025-08-15T05:48:21.124954Z",
     "iopub.status.idle": "2025-08-15T05:48:21.223321Z",
     "shell.execute_reply": "2025-08-15T05:48:21.221038Z",
     "shell.execute_reply.started": "2025-08-15T05:48:21.125292Z"
    }
   },
   "outputs": [],
   "source": [
    "# Disable SSL warnings and verification\n",
    "urllib3.disable_warnings(urllib3.exceptions.InsecureRequestWarning)\n",
    "os.environ[\"PYTHONHTTPSVERIFY\"] = \"0\"\n",
    "ssl._create_default_https_context = ssl._create_unverified_context\n",
    "\n",
    "# Check if AWS credentials are properly configured\n",
    "try:\n",
    "    # Try to get caller identity (lightweight AWS API call)\n",
    "    sts = boto3.client(\"sts\", region_name=region, verify=False)\n",
    "    identity = sts.get_caller_identity()\n",
    "\n",
    "    print(\"✅ AWS credentials are properly configured!\")\n",
    "    print(f\"Account ID: {identity['Account']}\")\n",
    "    print(f\"User ID: {identity['UserId']}\")\n",
    "    print(f\"ARN: {identity['Arn']}\")\n",
    "except Exception as e:\n",
    "    print(\"❌ AWS credentials are not properly configured!\")\n",
    "    print(f\"Error: {str(e)}\")"
   ]
  },
  {
   "cell_type": "markdown",
   "id": "1d472154-d7a4-487d-89ba-8a8323370c7d",
   "metadata": {},
   "source": [
    "## Create a secret in AWS Secrets Manager to store the service account credentials"
   ]
  },
  {
   "cell_type": "code",
   "execution_count": null,
   "id": "a492a283-5c46-414f-a2d9-58e06e0f4b07",
   "metadata": {
    "execution": {
     "iopub.execute_input": "2025-08-15T05:52:49.926043Z",
     "iopub.status.busy": "2025-08-15T05:52:49.925716Z",
     "iopub.status.idle": "2025-08-15T05:52:50.055664Z",
     "shell.execute_reply": "2025-08-15T05:52:50.054980Z",
     "shell.execute_reply.started": "2025-08-15T05:52:49.926010Z"
    }
   },
   "outputs": [],
   "source": [
    "# Create client with SSL verification disabled\n",
    "# Make sure the IAM role related to the Sagamaker instance has permissions to create a secret\n",
    "secrets_client = boto3.client(\"secretsmanager\", region_name=region, verify=False)\n",
    "\n",
    "gmail_credentials = {\n",
    "    \"clientEmailId\": client_email,  # Updated variable name\n",
    "    \"adminAccountEmailId\": admin_account_email,  # Updated variable name\n",
    "    \"privateKey\": private_key,  # Updated variable name\n",
    "}\n",
    "\n",
    "try:\n",
    "    response = secrets_client.create_secret(\n",
    "        Name=gmail_secret_name, SecretString=json.dumps(gmail_credentials)\n",
    "    )\n",
    "    print(f\"Secret created: {response['ARN']}\")\n",
    "except secrets_client.exceptions.ResourceExistsException:\n",
    "    print(f\"Secret '{gmail_secret_name}' already exists\")"
   ]
  },
  {
   "cell_type": "markdown",
   "id": "3d79c219-5bdd-48df-9b73-af46f9facb3c",
   "metadata": {},
   "source": [
    "## Create Service-linked role for Q Business if it doesn't exist"
   ]
  },
  {
   "cell_type": "code",
   "execution_count": null,
   "id": "49d84597-b10e-4e9c-a3bd-cbb49745f445",
   "metadata": {
    "execution": {
     "iopub.execute_input": "2025-08-15T05:54:07.862184Z",
     "iopub.status.busy": "2025-08-15T05:54:07.861524Z",
     "iopub.status.idle": "2025-08-15T05:54:07.993587Z",
     "shell.execute_reply": "2025-08-15T05:54:07.992622Z",
     "shell.execute_reply.started": "2025-08-15T05:54:07.862156Z"
    }
   },
   "outputs": [],
   "source": [
    "# Refresh session to ensure credentials are valid\n",
    "session = boto3.Session(region_name=region)\n",
    "iam = session.client(\"iam\", region_name=region, verify=False)\n",
    "\n",
    "# Use the managed service-linked role for Amazon Q Business application\n",
    "app_role_arn = (\n",
    "    f\"arn:aws:iam::{identity['Account']}:\"\n",
    "    f\"role/aws-service-role/qbusiness.amazonaws.com/AWSServiceRoleForQBusiness\"\n",
    ")\n",
    "\n",
    "# Check if the service-linked role exists, create it if it doesn't\n",
    "try:\n",
    "    iam.get_role(RoleName=\"AWSServiceRoleForQBusiness\")\n",
    "    print(\"✅ Service-linked role for Q Business already exists\")\n",
    "except iam.exceptions.NoSuchEntityException:\n",
    "    print(\"Creating service-linked role for Q Business...\")\n",
    "    iam.create_service_linked_role(AWSServiceName=\"qbusiness.amazonaws.com\")\n",
    "    print(\"✅ Service-linked role for Q Business created\")\n",
    "\n",
    "print(f\"Using service-linked role for application: {app_role_arn}\")"
   ]
  },
  {
   "cell_type": "markdown",
   "id": "044ed579-cf7e-4294-a8c8-4aff7914455f",
   "metadata": {},
   "source": [
    "## Create an IAM role for Gmail data source"
   ]
  },
  {
   "cell_type": "code",
   "execution_count": 16,
   "id": "aaa67d7c-1788-4489-9e39-0070af3b96c7",
   "metadata": {
    "execution": {
     "iopub.execute_input": "2025-08-15T05:57:49.053964Z",
     "iopub.status.busy": "2025-08-15T05:57:49.053672Z",
     "iopub.status.idle": "2025-08-15T05:57:49.057828Z",
     "shell.execute_reply": "2025-08-15T05:57:49.057071Z",
     "shell.execute_reply.started": "2025-08-15T05:57:49.053940Z"
    }
   },
   "outputs": [],
   "source": [
    "# Create a separate role for the Gmail datasource with specific permissions\n",
    "gmail_trust_policy = {\n",
    "    \"Version\": \"2012-10-17\",\n",
    "    \"Statement\": [\n",
    "        {\n",
    "            \"Effect\": \"Allow\",\n",
    "            \"Principal\": {\"Service\": \"qbusiness.amazonaws.com\"},\n",
    "            \"Action\": \"sts:AssumeRole\",\n",
    "        }\n",
    "    ],\n",
    "}"
   ]
  },
  {
   "cell_type": "markdown",
   "id": "8f6c817b-47ac-4347-beac-579b708a9205",
   "metadata": {},
   "source": [
    "## Create an IAM Policy to attach to the role created"
   ]
  },
  {
   "cell_type": "code",
   "execution_count": 14,
   "id": "bf826c3f-dbc8-4f13-a0f2-280fca8e8b1b",
   "metadata": {
    "execution": {
     "iopub.execute_input": "2025-08-15T05:55:10.753877Z",
     "iopub.status.busy": "2025-08-15T05:55:10.753253Z",
     "iopub.status.idle": "2025-08-15T05:55:10.759324Z",
     "shell.execute_reply": "2025-08-15T05:55:10.758201Z",
     "shell.execute_reply.started": "2025-08-15T05:55:10.753844Z"
    }
   },
   "outputs": [],
   "source": [
    "# Define custom policy for the Gmail datasource\n",
    "gmail_policy_document = {\n",
    "    \"Version\": \"2012-10-17\",\n",
    "    \"Statement\": [\n",
    "        {\n",
    "            \"Sid\": \"AllowsAmazonQToGetS3Objects\",\n",
    "            \"Action\": [\"s3:GetObject\"],\n",
    "            \"Resource\": [\"arn:aws:s3:::*/*\"],\n",
    "            \"Effect\": \"Allow\",\n",
    "            \"Condition\": {\"StringEquals\": {\"aws:ResourceAccount\": identity[\"Account\"]}},\n",
    "        },\n",
    "        {\n",
    "            \"Sid\": \"AllowsAmazonQToGetSecret\",\n",
    "            \"Effect\": \"Allow\",\n",
    "            \"Action\": [\"secretsmanager:GetSecretValue\"],\n",
    "            \"Resource\": [\n",
    "                f\"arn:aws:secretsmanager:{region}:{identity['Account']}:secret:*\"\n",
    "            ],\n",
    "        },\n",
    "        {\n",
    "            \"Sid\": \"AllowsAmazonQToDecryptSecret\",\n",
    "            \"Effect\": \"Allow\",\n",
    "            \"Action\": [\"kms:Decrypt\"],\n",
    "            \"Resource\": [f\"arn:aws:kms:{region}:{identity['Account']}:key/*\"],\n",
    "            \"Condition\": {\n",
    "                \"StringLike\": {\"kms:ViaService\": [\"secretsmanager.*.amazonaws.com\"]}\n",
    "            },\n",
    "        },\n",
    "        {\n",
    "            \"Sid\": \"AllowsAmazonQToIngestDocuments\",\n",
    "            \"Effect\": \"Allow\",\n",
    "            \"Action\": [\"qbusiness:BatchPutDocument\", \"qbusiness:BatchDeleteDocument\"],\n",
    "            \"Resource\": \"*\",\n",
    "        },\n",
    "        {\n",
    "            \"Sid\": \"AllowsAmazonQToIngestPrincipalMapping\",\n",
    "            \"Effect\": \"Allow\",\n",
    "            \"Action\": [\n",
    "                \"qbusiness:PutGroup\",\n",
    "                \"qbusiness:CreateUser\",\n",
    "                \"qbusiness:DeleteGroup\",\n",
    "                \"qbusiness:UpdateUser\",\n",
    "                \"qbusiness:ListGroups\",\n",
    "            ],\n",
    "            \"Resource\": \"*\",\n",
    "        },\n",
    "    ],\n",
    "}"
   ]
  },
  {
   "cell_type": "markdown",
   "id": "1f5e2067-85df-4672-84e7-87008bd72beb",
   "metadata": {},
   "source": [
    "## Create the role with IAM policy attached"
   ]
  },
  {
   "cell_type": "code",
   "execution_count": null,
   "id": "a497f3a9-487d-454f-874f-dc9f05430527",
   "metadata": {
    "execution": {
     "iopub.execute_input": "2025-08-15T05:59:28.630502Z",
     "iopub.status.busy": "2025-08-15T05:59:28.629860Z",
     "iopub.status.idle": "2025-08-15T05:59:28.752868Z",
     "shell.execute_reply": "2025-08-15T05:59:28.752308Z",
     "shell.execute_reply.started": "2025-08-15T05:59:28.630475Z"
    }
   },
   "outputs": [],
   "source": [
    "try:\n",
    "    # Create the gmail role\n",
    "    gmail_role_response = iam.create_role(\n",
    "        RoleName=gmail_role_name,\n",
    "        AssumeRolePolicyDocument=json.dumps(gmail_trust_policy),\n",
    "        Description=\"Role for Amazon Q Business Gmail\",\n",
    "    )\n",
    "    print(\"Gmail role created successfully.\")\n",
    "\n",
    "    # Create and attach the custom inline policy\n",
    "    iam.put_role_policy(\n",
    "        RoleName=gmail_role_name,\n",
    "        PolicyName=\"QBusinessGmailPermissions\",\n",
    "        PolicyDocument=json.dumps(gmail_policy_document),\n",
    "    )\n",
    "    print(\"Custom policy attached to Gmail role.\")\n",
    "\n",
    "    # Get the Gmail role ARN\n",
    "    gmail_role_arn = gmail_role_response[\"Role\"][\"Arn\"]\n",
    "    print(f\"Gmail Role ARN: {gmail_role_arn}\")\n",
    "\n",
    "except iam.exceptions.EntityAlreadyExistsException:\n",
    "    print(f\"Role '{gmail_role_name}' already exists.\")\n",
    "    gmail_role_response = iam.get_role(RoleName=gmail_role_name)\n",
    "    gmail_role_arn = gmail_role_response[\"Role\"][\"Arn\"]\n",
    "    print(f\"Gmail Role ARN: {gmail_role_arn}\")"
   ]
  },
  {
   "cell_type": "markdown",
   "id": "25c8821b-3348-4a48-aabd-28849b765533",
   "metadata": {},
   "source": [
    "## Regions to check for IAM Identity Center"
   ]
  },
  {
   "cell_type": "code",
   "execution_count": 19,
   "id": "7c9ac75c-3141-468f-965a-636758fd6193",
   "metadata": {
    "execution": {
     "iopub.execute_input": "2025-08-15T05:59:39.821702Z",
     "iopub.status.busy": "2025-08-15T05:59:39.821345Z",
     "iopub.status.idle": "2025-08-15T05:59:39.825134Z",
     "shell.execute_reply": "2025-08-15T05:59:39.824305Z",
     "shell.execute_reply.started": "2025-08-15T05:59:39.821677Z"
    }
   },
   "outputs": [],
   "source": [
    " # Define regions to check for IAM Identity Center\n",
    "regions_to_check = [\n",
    "    \"us-east-1\",\n",
    "    \"us-east-2\",\n",
    "    \"us-west-1\",\n",
    "    \"us-west-2\",\n",
    "    \"eu-west-1\",\n",
    "    \"eu-central-1\",\n",
    "    \"ap-northeast-1\",\n",
    "    \"ap-southeast-1\",\n",
    "]"
   ]
  },
  {
   "cell_type": "markdown",
   "id": "182bc0db-d8b6-46d5-a70f-11d07ea491f0",
   "metadata": {},
   "source": [
    "## Create an IAM Identity Center instance if it doesn't exist already"
   ]
  },
  {
   "cell_type": "code",
   "execution_count": 20,
   "id": "7f563349-8917-4e43-a6ce-d13080bb4639",
   "metadata": {
    "execution": {
     "iopub.execute_input": "2025-08-15T06:00:01.478288Z",
     "iopub.status.busy": "2025-08-15T06:00:01.477580Z",
     "iopub.status.idle": "2025-08-15T06:00:01.485677Z",
     "shell.execute_reply": "2025-08-15T06:00:01.484692Z",
     "shell.execute_reply.started": "2025-08-15T06:00:01.478181Z"
    }
   },
   "outputs": [],
   "source": [
    "# Find IAM Identity Center instance across all regions\n",
    "def find_idc_instance():\n",
    "    # List of AWS regions to check\n",
    "    print(\"Searching for IAM Identity Center instances across regions...\")\n",
    "    # Check each region for an Identity Center instance\n",
    "    for check_region in regions_to_check:\n",
    "        try:\n",
    "            # Create SSO admin client for this region\n",
    "            sso_admin = boto3.client(\n",
    "                \"sso-admin\", region_name=check_region, verify=False\n",
    "            )\n",
    "\n",
    "            # List existing Identity Center instances\n",
    "            response = sso_admin.list_instances()\n",
    "\n",
    "            # Check if any instances exist in this region\n",
    "            if response[\"Instances\"]:\n",
    "                instance_arn = response[\"Instances\"][0][\"InstanceArn\"]\n",
    "                instance_region = check_region\n",
    "                print(\n",
    "                    f\"✅ Found IAM Identity Center instance in {check_region}: \"\n",
    "                    f\"{instance_arn}\"\n",
    "                )\n",
    "                return {\n",
    "                    \"identityType\": \"AWS_IAM_IDC\",\n",
    "                    \"identityCenterInstanceArn\": instance_arn,\n",
    "                    \"region\": instance_region,\n",
    "                }\n",
    "        except Exception as e:\n",
    "            # Continue to next region if there's an error\n",
    "            continue\n",
    "\n",
    "    # If no instance found, return None\n",
    "    return None"
   ]
  },
  {
   "cell_type": "code",
   "execution_count": null,
   "id": "e948bd8f-ae94-4e3f-a10c-1b1bc4d259fe",
   "metadata": {
    "execution": {
     "iopub.execute_input": "2025-08-15T06:04:51.790208Z",
     "iopub.status.busy": "2025-08-15T06:04:51.789506Z",
     "iopub.status.idle": "2025-08-15T06:04:51.860556Z",
     "shell.execute_reply": "2025-08-15T06:04:51.859718Z",
     "shell.execute_reply.started": "2025-08-15T06:04:51.790180Z"
    }
   },
   "outputs": [],
   "source": [
    "# Try to find existing IDC instance\n",
    "idc_config = find_idc_instance()\n",
    "\n",
    "# If no instance found, try to create one\n",
    "if not idc_config:\n",
    "    print(\n",
    "        \"No existing IAM Identity Center instances found. Attempting to \"\n",
    "        \"create one...\"\n",
    "    )\n",
    "\n",
    "    try:\n",
    "        # Create Organizations client to check if organization exists\n",
    "        org_client = boto3.client(\"organizations\")\n",
    "        org_client.describe_organization()\n",
    "\n",
    "        # Create SSO admin client in current region\n",
    "        sso_admin = boto3.client(\"sso-admin\", region_name=region, verify=False)\n",
    "\n",
    "        # Create Identity Center instance\n",
    "        response = sso_admin.create_instance()\n",
    "        print(f\"✅ Created new IAM Identity Center instance in {region}\")\n",
    "\n",
    "        # Wait for instance to be available\n",
    "        print(\"Waiting for instance to be available...\")\n",
    "        time.sleep(10)\n",
    "\n",
    "        # Get the ARN of the new instance\n",
    "        list_response = sso_admin.list_instances()\n",
    "        if list_response[\"Instances\"]:\n",
    "            instance_arn = list_response[\"Instances\"][0][\"InstanceArn\"]\n",
    "            print(f\"New instance ARN: {instance_arn}\")\n",
    "            idc_config = {\n",
    "                \"identityType\": \"AWS_IAM_IDC\",\n",
    "                \"identityCenterInstanceArn\": instance_arn,\n",
    "                \"region\": region,\n",
    "            }\n",
    "    except Exception as e:\n",
    "        print(f\"Error creating IAM Identity Center instance: {str(e)}\")\n",
    "\n",
    "if not idc_config:\n",
    "    print(\"❌ Could not find or create an IAM Identity Center instance\")"
   ]
  },
  {
   "cell_type": "markdown",
   "id": "34416c33-3af5-4f46-9580-f8744037e0a3",
   "metadata": {},
   "source": [
    "## Create a user in IAM Identity center"
   ]
  },
  {
   "cell_type": "code",
   "execution_count": 25,
   "id": "522402cf-2061-449f-a7bb-cdb98341757c",
   "metadata": {
    "execution": {
     "iopub.execute_input": "2025-08-15T06:06:41.494135Z",
     "iopub.status.busy": "2025-08-15T06:06:41.493490Z",
     "iopub.status.idle": "2025-08-15T06:06:41.499826Z",
     "shell.execute_reply": "2025-08-15T06:06:41.498836Z",
     "shell.execute_reply.started": "2025-08-15T06:06:41.494106Z"
    }
   },
   "outputs": [],
   "source": [
    "def create_idc_user(username, given_name, family_name):\n",
    "    try:\n",
    "        # Variables to store instance information\n",
    "        instance_arn = None\n",
    "        identity_store_id = None\n",
    "        idc_region = None\n",
    "\n",
    "        # Check each region for an Identity Center instance\n",
    "        for check_region in regions_to_check:\n",
    "            try:\n",
    "                # Create SSO admin client for this region\n",
    "                sso_admin = boto3.client(\n",
    "                    \"sso-admin\", region_name=check_region, verify=False\n",
    "                )\n",
    "\n",
    "                # List existing Identity Center instances\n",
    "                response = sso_admin.list_instances()\n",
    "\n",
    "                # Check if any instances exist in this region\n",
    "                if response.get(\"Instances\"):\n",
    "                    instance = response[\"Instances\"][0]\n",
    "                    instance_arn = instance[\"InstanceArn\"]\n",
    "\n",
    "                    # Get the Identity Store ID\n",
    "                    instance_response = sso_admin.describe_instance(\n",
    "                        InstanceArn=instance_arn\n",
    "                    )\n",
    "                    identity_store_id = instance_response[\"IdentityStoreId\"]\n",
    "                    idc_region = check_region\n",
    "                    break\n",
    "            except Exception:\n",
    "                continue\n",
    "\n",
    "        if not instance_arn or not identity_store_id:\n",
    "            print(\"No IAM Identity Center instances found in any region\")\n",
    "            return None\n",
    "\n",
    "        return instance_arn, identity_store_id, idc_region\n",
    "    except Exception as e:\n",
    "        print(f\"Error finding Identity Center: {str(e)}\")\n",
    "        return None, None, None"
   ]
  },
  {
   "cell_type": "code",
   "execution_count": null,
   "id": "2b72a96f-edb5-4f80-af31-b83ebed98eb0",
   "metadata": {
    "execution": {
     "iopub.execute_input": "2025-08-15T06:06:45.449881Z",
     "iopub.status.busy": "2025-08-15T06:06:45.449001Z",
     "iopub.status.idle": "2025-08-15T06:06:45.754861Z",
     "shell.execute_reply": "2025-08-15T06:06:45.754048Z",
     "shell.execute_reply.started": "2025-08-15T06:06:45.449851Z"
    }
   },
   "outputs": [],
   "source": [
    "# Get Identity Center information\n",
    "instance_arn, identity_store_id, idc_region = create_idc_user(\n",
    "    email, first_name, family_name\n",
    ")\n",
    "\n",
    "if identity_store_id:\n",
    "    try:\n",
    "        # Create an Identity Store client in the correct region\n",
    "        identity_store = boto3.client(\n",
    "            \"identitystore\", region_name=idc_region, verify=False\n",
    "        )\n",
    "\n",
    "        # Create a new user with the provided username, given name, and family name\n",
    "        user_response = identity_store.create_user(\n",
    "            IdentityStoreId=identity_store_id,\n",
    "            UserName=email,\n",
    "            Name={\"GivenName\": first_name, \"FamilyName\": family_name},\n",
    "            DisplayName=f\"{first_name} {family_name}\",\n",
    "            Emails=[\n",
    "                {\n",
    "                    \"Value\": email if \"@\" in email else f\"{email}@example.com\",\n",
    "                    \"Type\": \"Work\",\n",
    "                    \"Primary\": True,\n",
    "                }\n",
    "            ],\n",
    "        )\n",
    "\n",
    "        user_id = user_response[\"UserId\"]\n",
    "        print(\n",
    "            f\"\\nUser '{first_name} {family_name}' created successfully. id: \"\n",
    "            f\"{user_id}, username: {email}\"\n",
    "        )\n",
    "        print(\n",
    "            \"\\nNote: For security reasons, \"\n",
    "            \"password must be set manually through the AWS Console.\"\n",
    "        )\n",
    "    except Exception as e:\n",
    "        print(f\"Error creating user in IAM Identity Center: {str(e)}\")\n",
    "        user_id = None\n",
    "else:\n",
    "    print(\"Cannot create user without Identity Store ID\")\n",
    "    user_id = None"
   ]
  },
  {
   "cell_type": "markdown",
   "id": "a95cc9f0-71bd-4e2c-b516-afd3c0053939",
   "metadata": {},
   "source": [
    "## Create Amazon Q Business application"
   ]
  },
  {
   "cell_type": "code",
   "execution_count": null,
   "id": "14ba065e-3f0c-4954-a0e6-b706e1545155",
   "metadata": {
    "execution": {
     "iopub.execute_input": "2025-08-15T06:16:20.438056Z",
     "iopub.status.busy": "2025-08-15T06:16:20.437286Z",
     "iopub.status.idle": "2025-08-15T06:16:21.134549Z",
     "shell.execute_reply": "2025-08-15T06:16:21.133866Z",
     "shell.execute_reply.started": "2025-08-15T06:16:20.438026Z"
    }
   },
   "outputs": [],
   "source": [
    "# Initialize the Q Business client with region\n",
    "q_business = boto3.client(\"qbusiness\", region_name=region, verify=False)\n",
    "\n",
    "try:\n",
    "    if idc_config:\n",
    "        # Create the Q Business instance with IAM Identity Center\n",
    "        create_params = {\n",
    "            \"displayName\": instance_name,\n",
    "            \"roleArn\": app_role_arn,\n",
    "            \"identityType\": idc_config[\"identityType\"],\n",
    "            \"identityCenterInstanceArn\": idc_config[\"identityCenterInstanceArn\"],\n",
    "        }\n",
    "\n",
    "        print(\n",
    "            f\"Creating Q Business application with IAM Identity Center from \"\n",
    "            f\"{idc_config['region']}\"\n",
    "        )\n",
    "        response = q_business.create_application(**create_params)\n",
    "\n",
    "        print(\"Q Business instance creation initiated successfully!\")\n",
    "        print(\"\\nResponse: \")\n",
    "        print(json.dumps(response, indent=2))\n",
    "\n",
    "        # Store the application ID for future reference\n",
    "        application_id = response[\"applicationId\"]\n",
    "    else:\n",
    "        print(\"Cannot create Q Business application without IAM Identity \" \"Center\")\n",
    "\n",
    "except Exception as e:\n",
    "    print(f\"Error creating Q Business instance: {str(e)}\")"
   ]
  },
  {
   "cell_type": "markdown",
   "id": "ef9cfc79-ae5c-463e-82f8-d2cc25bcc8fd",
   "metadata": {},
   "source": [
    "## Check application status"
   ]
  },
  {
   "cell_type": "code",
   "execution_count": 34,
   "id": "a959524a-869d-4340-8a85-75f88c07193d",
   "metadata": {
    "execution": {
     "iopub.execute_input": "2025-08-15T06:16:38.078054Z",
     "iopub.status.busy": "2025-08-15T06:16:38.077468Z",
     "iopub.status.idle": "2025-08-15T06:16:38.082195Z",
     "shell.execute_reply": "2025-08-15T06:16:38.081309Z",
     "shell.execute_reply.started": "2025-08-15T06:16:38.078020Z"
    }
   },
   "outputs": [],
   "source": [
    "def check_instance_status(application_id):\n",
    "    try:\n",
    "        response = q_business.get_application(applicationId=application_id)\n",
    "        status = response[\"status\"]\n",
    "        print(f\"Current status: {status}\")\n",
    "        return status\n",
    "    except Exception as e:\n",
    "        print(f\"Error checking status: {str(e)}\")\n",
    "        return None"
   ]
  },
  {
   "cell_type": "code",
   "execution_count": null,
   "id": "d45d851d-15cb-4055-98c5-a6697553c885",
   "metadata": {
    "execution": {
     "iopub.execute_input": "2025-08-15T06:22:00.520869Z",
     "iopub.status.busy": "2025-08-15T06:22:00.520462Z",
     "iopub.status.idle": "2025-08-15T06:22:00.649666Z",
     "shell.execute_reply": "2025-08-15T06:22:00.648683Z",
     "shell.execute_reply.started": "2025-08-15T06:22:00.520840Z"
    }
   },
   "outputs": [],
   "source": [
    "# Check status periodically until the instance is ready\n",
    "max_attempts = 30\n",
    "attempt = 0\n",
    "\n",
    "while attempt < max_attempts:\n",
    "    status = check_instance_status(application_id)\n",
    "    if status == \"ACTIVE\":\n",
    "        print(\"\\nQ Business instance is now active!\")\n",
    "        break\n",
    "    elif status == \"FAILED\":\n",
    "        print(\"\\nQ Business instance creation failed!\")\n",
    "        break\n",
    "\n",
    "    print(\n",
    "        f\"Waiting for instance to become active... (Attempt {attempt + 1}/{max_attempts})\"\n",
    "    )\n",
    "    time.sleep(60)  # Wait for 60 seconds before checking again\n",
    "    attempt += 1"
   ]
  },
  {
   "cell_type": "markdown",
   "id": "addc117b-90ae-463c-be9a-77d16cea081e",
   "metadata": {},
   "source": [
    "## Add the IAM Identity user to the application with Pro subscription"
   ]
  },
  {
   "cell_type": "code",
   "execution_count": 41,
   "id": "6ad6a2ac-0cb4-4fed-be3a-9ea23e4d0a0e",
   "metadata": {
    "execution": {
     "iopub.execute_input": "2025-08-15T06:22:00.669906Z",
     "iopub.status.busy": "2025-08-15T06:22:00.669675Z",
     "iopub.status.idle": "2025-08-15T06:22:00.676202Z",
     "shell.execute_reply": "2025-08-15T06:22:00.675503Z",
     "shell.execute_reply.started": "2025-08-15T06:22:00.669887Z"
    }
   },
   "outputs": [],
   "source": [
    "def add_user_with_pro_subscription(application_id, user_id):\n",
    "    \"\"\"\n",
    "    Add a user to the Q Business instance with a Pro subscription.\n",
    "\n",
    "    Parameters:\n",
    "    - application_id: The ID of the Q Business application\n",
    "    - user_id: The user ID from IAM Identity Center\n",
    "    \"\"\"\n",
    "    try:\n",
    "        # Initialize the Q Business client\n",
    "        q_business = boto3.client(\"qbusiness\", region_name=region, verify=False)\n",
    "\n",
    "        # Check if user_id exists before creating subscription\n",
    "        if user_id:\n",
    "            try:\n",
    "                subscription_response = q_business.create_subscription(\n",
    "                    applicationId=application_id,\n",
    "                    principal={\"user\": user_id},\n",
    "                    type=\"Q_BUSINESS\",\n",
    "                )\n",
    "                print(\n",
    "                    f\"User {user_id} added with subscription \"\n",
    "                    f\"{subscription_response['subscriptionId']}\"\n",
    "                )\n",
    "                return subscription_response\n",
    "            except Exception as e:\n",
    "                print(f\"Error creating subscription: {str(e)}\")\n",
    "                return None\n",
    "        else:\n",
    "            print(\"User creation failed - user_id is None\")\n",
    "            return None\n",
    "    except Exception as e:\n",
    "        print(f\"❌ Error adding user to Q Business: {str(e)}\")\n",
    "        return None"
   ]
  },
  {
   "cell_type": "code",
   "execution_count": null,
   "id": "066208e0-fdae-4d52-befe-7d3e3f5c30e2",
   "metadata": {
    "execution": {
     "iopub.execute_input": "2025-08-15T06:25:02.382473Z",
     "iopub.status.busy": "2025-08-15T06:25:02.381839Z",
     "iopub.status.idle": "2025-08-15T06:25:02.774724Z",
     "shell.execute_reply": "2025-08-15T06:25:02.770974Z",
     "shell.execute_reply.started": "2025-08-15T06:25:02.382445Z"
    }
   },
   "outputs": [],
   "source": [
    "# Add the user with Pro subscription\n",
    "subscription_response = add_user_with_pro_subscription(application_id, user_id)\n",
    "\n",
    "if subscription_response:\n",
    "    print(f\"✅ User with ID {user_id} added to Q Business with Pro subscription!\")\n",
    "    print(f\"Q Business User ID: {user_id}\")\n",
    "    print(f\"Subscription ID: {subscription_response['subscriptionId']}\")\n",
    "    print(json.dumps(subscription_response, indent=5))"
   ]
  },
  {
   "cell_type": "markdown",
   "id": "90381a88-81c9-44b8-9dbe-cfbd7e5106b4",
   "metadata": {},
   "source": [
    "## Print application id, useris and subscription id"
   ]
  },
  {
   "cell_type": "code",
   "execution_count": null,
   "id": "ea1e110a-5b87-45e4-938a-cac0825ecf03",
   "metadata": {
    "execution": {
     "iopub.execute_input": "2025-08-15T06:26:09.009569Z",
     "iopub.status.busy": "2025-08-15T06:26:09.009275Z",
     "iopub.status.idle": "2025-08-15T06:26:09.130014Z",
     "shell.execute_reply": "2025-08-15T06:26:09.129218Z",
     "shell.execute_reply.started": "2025-08-15T06:26:09.009547Z"
    }
   },
   "outputs": [],
   "source": [
    "print(f\"application_id: {application_id}\")\n",
    "print(f\"user {user_id}\")\n",
    "\n",
    "print(\"list subscriptions: \")\n",
    "print(json.dumps(q_business.list_subscriptions(applicationId=application_id), indent=5))\n",
    "sub_id = q_business.list_subscriptions(applicationId=application_id)[\"subscriptions\"][\n",
    "    0\n",
    "][\"subscriptionId\"]\n",
    "print(f\"subscription_id: {sub_id}\")"
   ]
  },
  {
   "cell_type": "markdown",
   "id": "d43da9e8-3bf0-45b4-a611-420f898b94a3",
   "metadata": {},
   "source": [
    "## Create Amazon Q Business index"
   ]
  },
  {
   "cell_type": "code",
   "execution_count": null,
   "id": "0c530cc0-8a4d-478e-a084-aa439434a954",
   "metadata": {
    "execution": {
     "iopub.execute_input": "2025-08-15T06:30:58.532495Z",
     "iopub.status.busy": "2025-08-15T06:30:58.532230Z",
     "iopub.status.idle": "2025-08-15T06:30:58.794571Z",
     "shell.execute_reply": "2025-08-15T06:30:58.793900Z",
     "shell.execute_reply.started": "2025-08-15T06:30:58.532476Z"
    }
   },
   "outputs": [],
   "source": [
    "try:\n",
    "    # Create the index with displayName and capacity configuration\n",
    "    index_response = q_business.create_index(\n",
    "        applicationId=application_id,\n",
    "        displayName=\"gmail-index\",\n",
    "        description=\"Index for gmail data source\",\n",
    "        type=\"ENTERPRISE\",\n",
    "        capacityConfiguration={\n",
    "            \"units\": 1  # Specify the number of capacity units (1-10)\n",
    "        },\n",
    "    )\n",
    "\n",
    "    print(\"Index creation initiated successfully!\")\n",
    "    print(\"\\nResponse: \")\n",
    "    print(json.dumps(index_response, indent=2))\n",
    "\n",
    "    # Store the index ID for future reference\n",
    "    index_id = index_response[\"indexId\"]\n",
    "\n",
    "except Exception as e:\n",
    "    print(f\"Error creating index: {str(e)}\")"
   ]
  },
  {
   "cell_type": "markdown",
   "id": "89fdc6ae-ccb3-4850-aab0-6af6843836ee",
   "metadata": {},
   "source": [
    "## Check Index status"
   ]
  },
  {
   "cell_type": "code",
   "execution_count": 69,
   "id": "17672af0-670e-4aff-ae3b-55dc18396df1",
   "metadata": {
    "execution": {
     "iopub.execute_input": "2025-08-15T06:31:12.150493Z",
     "iopub.status.busy": "2025-08-15T06:31:12.149769Z",
     "iopub.status.idle": "2025-08-15T06:31:12.154096Z",
     "shell.execute_reply": "2025-08-15T06:31:12.153373Z",
     "shell.execute_reply.started": "2025-08-15T06:31:12.150459Z"
    }
   },
   "outputs": [],
   "source": [
    "def check_index_status(application_id, index_id):\n",
    "    try:\n",
    "        response = q_business.get_index(applicationId=application_id, indexId=index_id)\n",
    "        status = response[\"status\"]\n",
    "        print(f\"Current status: {status}\")\n",
    "        return status\n",
    "    except Exception as e:\n",
    "        print(f\"Error checking status: {str(e)}\")\n",
    "        return None"
   ]
  },
  {
   "cell_type": "code",
   "execution_count": null,
   "id": "0495a2a7-8bc8-46b1-9e84-c0fe0cd907f5",
   "metadata": {
    "execution": {
     "iopub.execute_input": "2025-08-15T06:34:33.624110Z",
     "iopub.status.busy": "2025-08-15T06:34:33.623866Z",
     "iopub.status.idle": "2025-08-15T06:34:33.728647Z",
     "shell.execute_reply": "2025-08-15T06:34:33.728085Z",
     "shell.execute_reply.started": "2025-08-15T06:34:33.624089Z"
    }
   },
   "outputs": [],
   "source": [
    "#Check status periodically until the index is ready\n",
    "max_attempts = 30\n",
    "attempt = 0\n",
    "\n",
    "while attempt < max_attempts:\n",
    "    status = check_index_status(application_id, index_id)\n",
    "    if status == \"ACTIVE\":\n",
    "        print(\"\\nIndex is now active!\")\n",
    "        break\n",
    "    elif status == \"FAILED\":\n",
    "        print(\"\\nIndex creation failed!\")\n",
    "        break\n",
    "\n",
    "    print(\n",
    "        f\"Waiting for index to become active... (Attempt {attempt + 1}/{max_attempts})\"\n",
    "    )\n",
    "    time.sleep(60)  # Wait for 60 seconds before checking again\n",
    "    attempt += 1"
   ]
  },
  {
   "cell_type": "markdown",
   "id": "5d8e1aec-3939-49a0-ae37-98b96cc13486",
   "metadata": {},
   "source": [
    "## Create Amazon Q Business retriever "
   ]
  },
  {
   "cell_type": "code",
   "execution_count": null,
   "id": "f77177af-5286-4ce0-b5d9-c5f0d759b99f",
   "metadata": {
    "execution": {
     "iopub.execute_input": "2025-08-15T06:39:05.721788Z",
     "iopub.status.busy": "2025-08-15T06:39:05.721432Z",
     "iopub.status.idle": "2025-08-15T06:39:05.807855Z",
     "shell.execute_reply": "2025-08-15T06:39:05.807044Z",
     "shell.execute_reply.started": "2025-08-15T06:39:05.721765Z"
    }
   },
   "outputs": [],
   "source": [
    "try:\n",
    "    # Create a retriever with correct configuration\n",
    "    retriever_response = q_business.create_retriever(\n",
    "        applicationId=application_id,\n",
    "        displayName=\"gmail-retriever1\",\n",
    "        type=\"NATIVE_INDEX\",\n",
    "        configuration={\n",
    "            \"nativeIndexConfiguration\": {\n",
    "                \"indexId\": index_id,\n",
    "            }\n",
    "        },\n",
    "        roleArn=app_role_arn,\n",
    "    )\n",
    "\n",
    "    print(\"Retriever creation initiated successfully!\")\n",
    "    print(\"\\nResponse: \")\n",
    "    print(json.dumps(retriever_response, indent=2))\n",
    "\n",
    "    # Store the retriever ID for future reference\n",
    "    retriever_id = retriever_response[\"retrieverId\"]\n",
    "\n",
    "except Exception as e:\n",
    "    print(f\"Error creating retriever: {str(e)}\")"
   ]
  },
  {
   "cell_type": "markdown",
   "id": "c5d8ebb0-354d-431e-854f-3666afe76a5c",
   "metadata": {},
   "source": [
    "## Configure Gmail Data source"
   ]
  },
  {
   "cell_type": "code",
   "execution_count": 100,
   "id": "aaa399a2-5d68-4d86-a881-49abffd906e7",
   "metadata": {
    "execution": {
     "iopub.execute_input": "2025-08-15T07:00:36.789886Z",
     "iopub.status.busy": "2025-08-15T07:00:36.789527Z",
     "iopub.status.idle": "2025-08-15T07:00:36.796871Z",
     "shell.execute_reply": "2025-08-15T07:00:36.796096Z",
     "shell.execute_reply.started": "2025-08-15T07:00:36.789863Z"
    }
   },
   "outputs": [],
   "source": [
    "gmail_config = {\n",
    "    \"version\": \"1.0.0\",\n",
    "    \"syncMode\": \"FORCED_FULL_CRAWL\",\n",
    "    \"secretArn\": f\"arn:aws:secretsmanager:{region}:{identity['Account']}:secret:{gmail_secret_name}\",\n",
    "    \"connectionConfiguration\": {\n",
    "        \"repositoryEndpointMetadata\": {\n",
    "            \"type\": \"GMAIL\"\n",
    "        }\n",
    "    },\n",
    "    \"repositoryConfigurations\": {\n",
    "        \"message\": {\n",
    "            \"fieldMappings\": [\n",
    "                {\n",
    "                    \"indexFieldName\": \"subject\",\n",
    "                    \"indexFieldType\": \"STRING\",\n",
    "                    \"dataSourceFieldName\": \"subject\"\n",
    "                },\n",
    "                {\n",
    "                    \"indexFieldName\": \"sentDate\",\n",
    "                    \"indexFieldType\": \"DATE\",\n",
    "                    \"dataSourceFieldName\": \"sentDate\",\n",
    "                    \"dateFieldFormat\": \"yyyy-MM-dd'T'HH:mm:ss'Z'\"\n",
    "                },\n",
    "                {\n",
    "                    \"indexFieldName\": \"fromAddress\",\n",
    "                    \"indexFieldType\": \"STRING\",\n",
    "                    \"dataSourceFieldName\": \"fromAddress\"\n",
    "                },\n",
    "                {\n",
    "                    \"indexFieldName\": \"body\",\n",
    "                    \"indexFieldType\": \"STRING\",\n",
    "                    \"dataSourceFieldName\": \"body\"\n",
    "                }\n",
    "            ]\n",
    "        }\n",
    "    },\n",
    "    \"additionalProperties\": {\n",
    "        \"isCrawlAcl\": True,\n",
    "        \"fieldForUserId\": \"fromAddress\",\n",
    "        \"inclusionLabelNamePatterns\": [],\n",
    "        \"exclusionLabelNamePatterns\": [],\n",
    "        \"inclusionAttachmentTypePatterns\": [],\n",
    "        \"exclusionAttachmentTypePatterns\": [],\n",
    "        \"inclusionAttachmentNamePatterns\": [],\n",
    "        \"exclusionAttachmentNamePatterns\": [],\n",
    "        \"inclusionSubjectFilter\": [],\n",
    "        \"exclusionSubjectFilter\": [],\n",
    "        \"isSubjectAnd\": True,\n",
    "        \"inclusionFromFilter\": [],\n",
    "        \"exclusionFromFilter\": [],\n",
    "        \"inclusionToFilter\": [],\n",
    "        \"exclusionToFilter\": [],\n",
    "        \"inclusionCcFilter\": [],\n",
    "        \"exclusionCcFilter\": [],\n",
    "        \"inclusionBccFilter\": [],\n",
    "        \"exclusionBccFilter\": [],\n",
    "        \"beforeDateFilter\": \"\",\n",
    "        \"afterDateFilter\": \"\",\n",
    "        \"isCrawlAttachment\": True,\n",
    "        \"shouldCrawlDraftMessages\": True,\n",
    "        \"maxFileSizeInMegaBytes\": \"50\"\n",
    "    },\n",
    "    \"type\": \"GMAIL\",\n",
    "}"
   ]
  },
  {
   "cell_type": "markdown",
   "id": "3c10c2b1-0edf-4963-bb51-24a8708c7c34",
   "metadata": {},
   "source": [
    "## Create the data source for Gmail Connector"
   ]
  },
  {
   "cell_type": "code",
   "execution_count": null,
   "id": "4bf9d39c-baa6-4e20-8e5a-f42df3a80a82",
   "metadata": {
    "execution": {
     "iopub.execute_input": "2025-08-15T07:00:38.857976Z",
     "iopub.status.busy": "2025-08-15T07:00:38.857713Z",
     "iopub.status.idle": "2025-08-15T07:00:39.268781Z",
     "shell.execute_reply": "2025-08-15T07:00:39.268099Z",
     "shell.execute_reply.started": "2025-08-15T07:00:38.857956Z"
    }
   },
   "outputs": [
    {
     "name": "stdout",
     "output_type": "stream",
     "text": [
      "gmail data source created: 24b79e2a-f054-4b7a-891c-c00f8e3695d4\n"
     ]
    }
   ],
   "source": [
    "try:\n",
    "    # Create the data source\n",
    "    response = q_business.create_data_source(\n",
    "        applicationId=application_id,\n",
    "        indexId=index_id,\n",
    "        displayName=\"gmail-source\",\n",
    "        configuration=gmail_config,\n",
    "        roleArn=gmail_role_arn,\n",
    "    )\n",
    "\n",
    "    data_source_id = response[\"dataSourceId\"]\n",
    "    print(f\"gmail data source created: {data_source_id}\")\n",
    "\n",
    "except Exception as e:\n",
    "    print(f\"Error: {str(e)}\")"
   ]
  },
  {
   "cell_type": "markdown",
   "id": "382cc7e0-0683-4a7c-8e1c-c656274e8aa6",
   "metadata": {},
   "source": [
    "## Check data source status"
   ]
  },
  {
   "cell_type": "code",
   "execution_count": 102,
   "id": "79868192-894a-4eb5-8d96-6688b5a04b00",
   "metadata": {
    "execution": {
     "iopub.execute_input": "2025-08-15T07:00:58.046923Z",
     "iopub.status.busy": "2025-08-15T07:00:58.046070Z",
     "iopub.status.idle": "2025-08-15T07:00:58.051702Z",
     "shell.execute_reply": "2025-08-15T07:00:58.050725Z",
     "shell.execute_reply.started": "2025-08-15T07:00:58.046887Z"
    }
   },
   "outputs": [],
   "source": [
    "def check_data_source_status(application_id, index_id, data_source_id):\n",
    "    try:\n",
    "        response = q_business.get_data_source(\n",
    "            applicationId=application_id, indexId=index_id, dataSourceId=data_source_id\n",
    "        )\n",
    "        status = response[\"status\"]\n",
    "        print(f\"Current status: {status}\")\n",
    "        return status\n",
    "    except Exception as e:\n",
    "        print(f\"Error checking status: {str(e)}\")\n",
    "        return None"
   ]
  },
  {
   "cell_type": "code",
   "execution_count": null,
   "id": "158692d7-b8c5-4617-baff-12562232adc0",
   "metadata": {
    "execution": {
     "iopub.execute_input": "2025-08-15T07:01:13.273620Z",
     "iopub.status.busy": "2025-08-15T07:01:13.273258Z",
     "iopub.status.idle": "2025-08-15T07:04:13.759662Z",
     "shell.execute_reply": "2025-08-15T07:04:13.758892Z",
     "shell.execute_reply.started": "2025-08-15T07:01:13.273593Z"
    }
   },
   "outputs": [],
   "source": [
    "# Check status periodically until the data source is ready\n",
    "max_attempts = 30\n",
    "attempt = 0\n",
    "\n",
    "while attempt < max_attempts:\n",
    "    status = check_data_source_status(application_id, index_id, data_source_id)\n",
    "    if status == \"ACTIVE\":\n",
    "        print(\"\\nGmail data source is now active!\")\n",
    "        break\n",
    "    elif status == \"FAILED\":\n",
    "        print(\"\\nGmail data source creation failed!\")\n",
    "        break\n",
    "\n",
    "    print(\n",
    "        f\"Waiting for data source to become active... (Attempt {attempt + 1}/{max_attempts})\"\n",
    "    )\n",
    "    time.sleep(60)  # Wait for 60 seconds before checking again\n",
    "    attempt += 1"
   ]
  },
  {
   "cell_type": "markdown",
   "id": "db8db50b-91ce-4d89-8a2d-0243a7163720",
   "metadata": {},
   "source": [
    "## Run a sync job on the data source"
   ]
  },
  {
   "cell_type": "code",
   "execution_count": null,
   "id": "39a2ae01-8223-4c60-9339-a2b5034a5fca",
   "metadata": {
    "execution": {
     "iopub.execute_input": "2025-08-15T07:06:40.050903Z",
     "iopub.status.busy": "2025-08-15T07:06:40.050290Z",
     "iopub.status.idle": "2025-08-15T07:06:40.825714Z",
     "shell.execute_reply": "2025-08-15T07:06:40.824931Z",
     "shell.execute_reply.started": "2025-08-15T07:06:40.050876Z"
    }
   },
   "outputs": [],
   "source": [
    "try:\n",
    "    # Start a sync job for the data source\n",
    "    sync_response = q_business.start_data_source_sync_job(\n",
    "        applicationId=application_id, indexId=index_id, dataSourceId=data_source_id\n",
    "    )\n",
    "\n",
    "    if sync_response[\"ResponseMetadata\"][\"HTTPStatusCode\"] == 200:\n",
    "        print(\"Data source sync job initiated successfully!\")\n",
    "        print(\"\\nResponse: \")\n",
    "        print(json.dumps(sync_response, indent=2))\n",
    "\n",
    "        # Store the execution ID for future reference\n",
    "        execution_id = sync_response[\"executionId\"]\n",
    "    else:\n",
    "        print(\n",
    "            f\"Error starting sync job. Status code: \"\n",
    "            f\"{sync_response['ResponseMetadata']['HTTPStatusCode']}\"\n",
    "        )\n",
    "        print(\"\\nResponse: \")\n",
    "        print(json.dumps(sync_response, indent=2))\n",
    "\n",
    "except Exception as e:\n",
    "    print(f\"Error starting data source sync job: {str(e)}\")"
   ]
  },
  {
   "cell_type": "markdown",
   "id": "6ebfe6cb-0a47-44b9-8845-4ff5e9a68e4c",
   "metadata": {},
   "source": [
    "## Check sync job status"
   ]
  },
  {
   "cell_type": "code",
   "execution_count": 107,
   "id": "fec50fcc-1c4f-40b4-9ab4-35ea52968bb7",
   "metadata": {
    "execution": {
     "iopub.execute_input": "2025-08-15T07:06:44.873672Z",
     "iopub.status.busy": "2025-08-15T07:06:44.873391Z",
     "iopub.status.idle": "2025-08-15T07:06:44.879234Z",
     "shell.execute_reply": "2025-08-15T07:06:44.878321Z",
     "shell.execute_reply.started": "2025-08-15T07:06:44.873650Z"
    }
   },
   "outputs": [],
   "source": [
    "def check_sync_job_status(application_id, index_id, data_source_id):\n",
    "    try:\n",
    "        response = q_business.list_data_source_sync_jobs(\n",
    "            applicationId=application_id, indexId=index_id, dataSourceId=data_source_id\n",
    "        )\n",
    "\n",
    "        # Get the most recent sync job from history\n",
    "        if response[\"history\"]:\n",
    "            latest_job = response[\"history\"][0]  # Jobs are returned in descending order\n",
    "            status = latest_job[\"status\"]\n",
    "            print(f\"Current sync job status: {status}\")\n",
    "\n",
    "            # Print metrics if available\n",
    "            if \"metrics\" in latest_job:\n",
    "                print(\"\\nSync metrics: \")\n",
    "                print(json.dumps(latest_job[\"metrics\"], indent=2))\n",
    "\n",
    "            # Print error if job failed\n",
    "            if status == \"FAILED\" and \"error\" in latest_job:\n",
    "                print(\"\\nError details: \")\n",
    "                print(json.dumps(latest_job[\"error\"], indent=2))\n",
    "\n",
    "            return status\n",
    "        else:\n",
    "            print(\"No sync jobs found in history\")\n",
    "            return None\n",
    "\n",
    "    except Exception as e:\n",
    "        print(f\"Error checking sync job status: {str(e)}\")\n",
    "        return None"
   ]
  },
  {
   "cell_type": "code",
   "execution_count": null,
   "id": "f10022c0-2752-4860-b1f0-d1997dba465b",
   "metadata": {
    "execution": {
     "iopub.execute_input": "2025-08-15T07:06:55.048287Z",
     "iopub.status.busy": "2025-08-15T07:06:55.047918Z",
     "iopub.status.idle": "2025-08-15T07:09:55.718172Z",
     "shell.execute_reply": "2025-08-15T07:09:55.717359Z",
     "shell.execute_reply.started": "2025-08-15T07:06:55.048265Z"
    }
   },
   "outputs": [],
   "source": [
    "# Check status periodically until the sync job is complete\n",
    "max_attempts = 30\n",
    "attempt = 0\n",
    "\n",
    "while attempt < max_attempts:\n",
    "    status = check_sync_job_status(application_id, index_id, data_source_id)\n",
    "    if status == \"SUCCEEDED\":\n",
    "        print(\"\\nSync job completed successfully!\")\n",
    "        break\n",
    "    elif status in [\"FAILED\", \"ABORTED\"]:\n",
    "        print(\"\\nSync job failed!\")\n",
    "        break\n",
    "    elif status in [\"SYNCING\", \"SYNCING_INDEXING\"]:\n",
    "        print(\n",
    "            f\"Waiting for sync job to complete... (Attempt {attempt + 1}/{max_attempts})\"\n",
    "        )\n",
    "        time.sleep(60)  # Wait for 60 seconds before checking again\n",
    "        attempt += 1\n",
    "    else:\n",
    "        print(f\"\\nUnexpected status: {status}\")\n",
    "        break"
   ]
  }
 ],
 "metadata": {
  "kernelspec": {
   "display_name": "Python 3 (ipykernel)",
   "language": "python",
   "name": "python3"
  },
  "language_info": {
   "codemirror_mode": {
    "name": "ipython",
    "version": 3
   },
   "file_extension": ".py",
   "mimetype": "text/x-python",
   "name": "python",
   "nbconvert_exporter": "python",
   "pygments_lexer": "ipython3",
   "version": "3.12.9"
  }
 },
 "nbformat": 4,
 "nbformat_minor": 5
}
